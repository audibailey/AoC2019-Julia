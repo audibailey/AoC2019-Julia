{
 "cells": [
  {
   "cell_type": "code",
   "execution_count": 5,
   "metadata": {},
   "outputs": [
    {
     "name": "stdout",
     "output_type": "stream",
     "text": [
      "\u001b[32m\u001b[1m Resolving\u001b[22m\u001b[39m package versions...\n",
      "\u001b[32m\u001b[1m  Updating\u001b[22m\u001b[39m `~/.julia/environments/v1.1/Project.toml`\n",
      "\u001b[90m [no changes]\u001b[39m\n",
      "\u001b[32m\u001b[1m  Updating\u001b[22m\u001b[39m `~/.julia/environments/v1.1/Manifest.toml`\n",
      "\u001b[90m [no changes]\u001b[39m\n",
      "\u001b[32m\u001b[1m Resolving\u001b[22m\u001b[39m package versions...\n",
      "\u001b[32m\u001b[1m  Updating\u001b[22m\u001b[39m `~/.julia/environments/v1.1/Project.toml`\n",
      "\u001b[90m [no changes]\u001b[39m\n",
      "\u001b[32m\u001b[1m  Updating\u001b[22m\u001b[39m `~/.julia/environments/v1.1/Manifest.toml`\n",
      "\u001b[90m [no changes]\u001b[39m\n",
      "\u001b[32m\u001b[1m Resolving\u001b[22m\u001b[39m package versions...\n",
      "\u001b[32m\u001b[1m  Updating\u001b[22m\u001b[39m `~/.julia/environments/v1.1/Project.toml`\n",
      "\u001b[90m [no changes]\u001b[39m\n",
      "\u001b[32m\u001b[1m  Updating\u001b[22m\u001b[39m `~/.julia/environments/v1.1/Manifest.toml`\n",
      "\u001b[90m [no changes]\u001b[39m\n"
     ]
    }
   ],
   "source": [
    "# Include the usual dependancies\n",
    "using Pkg\n",
    "Pkg.add(\"NBInclude\")\n",
    "using NBInclude\n",
    "@nbinclude(\"Deps.ipynb\")\n",
    "\n",
    "# Activate dependancies being used in this day\n",
    "using DelimitedFiles"
   ]
  },
  {
   "cell_type": "markdown",
   "metadata": {},
   "source": [
    "# --- Day 3: Crossed Wires ---\n",
    "## --- Part One ---"
   ]
  },
  {
   "cell_type": "markdown",
   "metadata": {},
   "source": [
    "The gravity assist was successful, and you're well on your way to the Venus refuelling station. During the rush back on Earth, the fuel management system wasn't completely installed, so that's next on the priority list.\n",
    "\n",
    "Opening the front panel reveals a jumble of wires. Specifically, two wires are connected to a central port and extend outward on a grid. You trace the path each wire takes as it leaves the central port, one wire per line of text (your puzzle input).\n",
    "\n",
    "The wires twist and turn, but the two wires occasionally cross paths. To fix the circuit, you need to find the intersection point closest to the central port. Because the wires are on a grid, use the Manhattan distance for this measurement. While the wires do technically cross right at the central port where they both start, this point does not count, nor does a wire count as crossing with itself.\n",
    "\n",
    "For example, if the first wire's path is R8,U5,L5,D3, then starting from the central port (o), it goes right 8, up 5, left 5, and finally down 3:\n",
    "\n",
    "`...........\n",
    "...........\n",
    "...........\n",
    "....+----+.\n",
    "....|....|.\n",
    "....|....|.\n",
    "....|....|.\n",
    ".........|.\n",
    ".o-------+.\n",
    "...........`\n",
    "\n",
    "Then, if the second wire's path is U7,R6,D4,L4, it goes up 7, right 6, down 4, and left 4:\n",
    "\n",
    "`...........\n",
    ".+-----+...\n",
    ".|.....|...\n",
    ".|..+--X-+.\n",
    ".|..|..|.|.\n",
    ".|.-X--+.|.\n",
    ".|..|....|.\n",
    ".|.......|.\n",
    ".o-------+.\n",
    "...........`\n",
    "\n",
    "These wires cross at two locations (marked X), but the lower-left one is closer to the central port: its distance is 3 + 3 = 6.\n",
    "\n",
    "Here are a few more examples:\n",
    "\n",
    "* R75,D30,R83,U83,L12,D49,R71,U7,L72\n",
    "\n",
    "  U62,R66,U55,R34,D71,R55,D58,R83 = distance 159\n",
    "  \n",
    "  \n",
    "* R98,U47,R26,D63,R33,U87,L62,D20,R33,U53,R51\n",
    "\n",
    "  U98,R91,D20,R16,D67,R40,U7,R15,U6,R7 = distance 135\n",
    "\n",
    "What is the Manhattan distance from the central port to the closest intersection?"
   ]
  },
  {
   "cell_type": "code",
   "execution_count": 167,
   "metadata": {},
   "outputs": [
    {
     "name": "stdout",
     "output_type": "stream",
     "text": [
      "0.0\n"
     ]
    }
   ],
   "source": [
    "# 1. make an array of all the line starts to line ends (coords) (2 arrays)\n",
    "# 2. go through both (dual for loop) and if it intersects put manhattan dist of coords into array\n",
    "# 3. min the array = answer\n",
    "\n",
    "# Parse file\n",
    "input = readdlm(\"../inputs/daythree.txt\", ',', String, '\\n')\n",
    "#input = [\"R8\" \"U5\" \"L5\" \"D3\"; \"U7\" \"R6\" \"D4\" \"L4\"]\n",
    "\n",
    "coords = Array{NamedTuple}(undef, size(input,1), size(input,2)+1)\n",
    "coords[1, 1] = (x = 0, y = 0)\n",
    "coords[2, 1] = (x = 0, y = 0)\n",
    "for row in 1:size(input, 1)\n",
    "    for col in 1:size(input, 2)\n",
    "        if input[row, col][1] == 'R'\n",
    "            xval = coords[row, col].x+parse(Int, input[row, col][2:end])\n",
    "            yval = coords[row, col].y\n",
    "            newcoord = (x = xval, y = yval)\n",
    "            coords[row, col+1] = newcoord\n",
    "        elseif input[row, col][1] == 'L'\n",
    "            xval = coords[row, col].x-parse(Int, input[row, col][2:end])\n",
    "            yval = coords[row, col].y\n",
    "            newcoord = (x = xval, y = yval)\n",
    "            coords[row, col+1] = newcoord\n",
    "        elseif input[row, col][1] == 'U'\n",
    "            xval = coords[row, col].x\n",
    "            yval = coords[row, col].y+parse(Int, input[row, col][2:end])\n",
    "            newcoord = (x = xval, y = yval)\n",
    "            coords[row, col+1] = newcoord\n",
    "        elseif input[row, col][1] == 'D'\n",
    "            xval = coords[row, col].x\n",
    "            yval = coords[row, col].y-parse(Int, input[row, col][2:end])\n",
    "            newcoord = (x = xval, y = yval)\n",
    "            coords[row, col+1] = newcoord\n",
    "        end\n",
    "    end \n",
    "end\n",
    "mandist = Float64[] \n",
    "for col1 in 1:size(coords, 2)-1\n",
    "    for col2 in 1:size(coords, 2)-1\n",
    "        a1 = coords[1, col1+1].y - coords[1, col1].y; \n",
    "        b1 = coords[1, col1].x - coords[1, col1+1].x; \n",
    "        c1 = a1 * (coords[1, col1].x) + b1 * (coords[1, col1].y); \n",
    "  \n",
    "        a2 = coords[2, col2+1].y - coords[2, col2].y; \n",
    "        b2 = coords[2, col2].x - coords[2, col2+1].x; \n",
    "        c2 = a2 * (coords[2, col2].x) + b2 * (coords[2, col2].y); \n",
    "  \n",
    "        determinant = a1 * b2 - a2 * b1; \n",
    "  \n",
    "        if (determinant != 0) \n",
    "            xval = (b2 * c1 - b1 * c2) / determinant; \n",
    "            yval = (a1 * c2 - a2 * c1) / determinant;\n",
    "            if xval+yval != 0.0 \n",
    "                append!(mandist, xval+yval+1)\n",
    "            end\n",
    "        end\n",
    "    end\n",
    "end\n",
    "\n",
    "closedToZero = 10000;\n",
    "for mandists in 1:length(mandist)\n",
    "    if (abs(mandist[mandists]) < abs(closedToZero)) \n",
    "        closedToZero = mandist[mandists];\n",
    "    end\n",
    "end\n",
    "println(closedToZero)"
   ]
  },
  {
   "cell_type": "code",
   "execution_count": null,
   "metadata": {},
   "outputs": [],
   "source": []
  },
  {
   "cell_type": "code",
   "execution_count": null,
   "metadata": {},
   "outputs": [],
   "source": []
  }
 ],
 "metadata": {
  "kernelspec": {
   "display_name": "Julia 1.1.1",
   "language": "julia",
   "name": "julia-1.1"
  },
  "language_info": {
   "file_extension": ".jl",
   "mimetype": "application/julia",
   "name": "julia",
   "version": "1.1.1"
  }
 },
 "nbformat": 4,
 "nbformat_minor": 2
}
