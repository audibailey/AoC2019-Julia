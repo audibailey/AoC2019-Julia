{
 "cells": [
  {
   "cell_type": "code",
   "execution_count": 2,
   "metadata": {
    "scrolled": false
   },
   "outputs": [
    {
     "ename": "ArgumentError",
     "evalue": "ArgumentError: Package Formatting not found in current path:\n- Run `import Pkg; Pkg.add(\"Formatting\")` to install the Formatting package.\n",
     "output_type": "error",
     "traceback": [
      "ArgumentError: Package Formatting not found in current path:\n- Run `import Pkg; Pkg.add(\"Formatting\")` to install the Formatting package.\n",
      "",
      "Stacktrace:",
      " [1] require(::Module, ::Symbol) at ./loading.jl:823",
      " [2] top-level scope at In[2]:2"
     ]
    }
   ],
   "source": [
    "using Pkg\n",
    "Pkg.add(\"Formatting\")\n",
    "using Formatting"
   ]
  },
  {
   "cell_type": "code",
   "execution_count": null,
   "metadata": {},
   "outputs": [],
   "source": []
  }
 ],
 "metadata": {
  "kernelspec": {
   "display_name": "Julia 1.1.1",
   "language": "julia",
   "name": "julia-1.1"
  },
  "language_info": {
   "file_extension": ".jl",
   "mimetype": "application/julia",
   "name": "julia",
   "version": "1.1.1"
  }
 },
 "nbformat": 4,
 "nbformat_minor": 2
}
