{
 "cells": [
  {
   "cell_type": "code",
   "execution_count": null,
   "metadata": {},
   "outputs": [],
   "source": [
    "# Include the usual dependancies\n",
    "using Pkg\n",
    "Pkg.add(\"NBInclude\")\n",
    "using NBInclude\n",
    "@nbinclude(\"Deps.ipynb\")\n",
    "\n",
    "# Activate dependancies being used in this day\n",
    "using Formatting"
   ]
  },
  {
   "cell_type": "markdown",
   "metadata": {},
   "source": [
    "# --- Day 1: The Tyranny of the Rocket Equation ---\n",
    "## --- Part One ---"
   ]
  },
  {
   "cell_type": "markdown",
   "metadata": {},
   "source": [
    "Santa has become stranded at the edge of the Solar System while delivering presents to other planets! To accurately calculate his position in space, safely align his warp drive, and return to Earth in time to save Christmas, he needs you to bring him measurements from fifty stars.\n",
    "\n",
    "Collect stars by solving puzzles. Two puzzles will be made available on each day in the Advent calendar; the second puzzle is unlocked when you complete the first. Each puzzle grants one star. Good luck!\n",
    "\n",
    "The Elves quickly load you into a spacecraft and prepare to launch.\n",
    "\n",
    "At the first Go / No Go poll, every Elf is Go until the Fuel Counter-Upper. They haven't determined the amount of fuel required yet.\n",
    "\n",
    "Fuel required to launch a given module is based on its mass. Specifically, to find the fuel required for a module, take its mass, divide by three, round down, and subtract 2.\n",
    "\n",
    "For example:\n",
    "\n",
    "* For a mass of 12, divide by 3 and round down to get 4, then subtract 2 to get 2.\n",
    "* For a mass of 14, dividing by 3 and rounding down still yields 4, so the fuel required is also 2.\n",
    "* For a mass of 1969, the fuel required is 654.\n",
    "* For a mass of 100756, the fuel required is 33583.\n",
    "\n",
    "The Fuel Counter-Upper needs to know the total fuel requirement. To find it, individually calculate the fuel needed for the mass of each module (your puzzle input), then add together all the fuel values.\n",
    "\n",
    "What is the sum of the fuel requirements for all of the modules on your spacecraft?\n"
   ]
  },
  {
   "cell_type": "code",
   "execution_count": 28,
   "metadata": {},
   "outputs": [
    {
     "name": "stdout",
     "output_type": "stream",
     "text": [
      "3454026\n"
     ]
    }
   ],
   "source": [
    "# Parse file\n",
    "open(\"../inputs/dayone.txt\") do file\n",
    "    # Initialise result\n",
    "    result = 0\n",
    "    \n",
    "    # Loop through each line of the file\n",
    "    for line in eachline(file)\n",
    "        \n",
    "        # Add fuel counter arithmetic to result \n",
    "        result += floor(parse(Int64, line) / 3)-2\n",
    "    end\n",
    "    \n",
    "    # Print result\n",
    "    println(format(result))\n",
    "end"
   ]
  },
  {
   "cell_type": "markdown",
   "metadata": {},
   "source": [
    "## --- Part Two ---"
   ]
  },
  {
   "cell_type": "markdown",
   "metadata": {},
   "source": [
    "During the second Go / No Go poll, the Elf in charge of the Rocket Equation Double-Checker stops the launch sequence. Apparently, you forgot to include additional fuel for the fuel you just added.\n",
    "\n",
    "Fuel itself requires fuel just like a module - take its mass, divide by three, round down, and subtract 2. However, that fuel also requires fuel, and that fuel requires fuel, and so on. Any mass that would require negative fuel should instead be treated as if it requires zero fuel; the remaining mass, if any, is instead handled by wishing really hard, which has no mass and is outside the scope of this calculation.\n",
    "\n",
    "So, for each module mass, calculate its fuel and add it to the total. Then, treat the fuel amount you just calculated as the input mass and repeat the process, continuing until a fuel requirement is zero or negative. For example:\n",
    "\n",
    "* A module of mass 14 requires 2 fuel. \n",
    "* This fuel requires no further fuel (2 divided by 3 and rounded down is 0, which would call for a negative fuel), so the total fuel required is still just 2.\n",
    "* At first, a module of mass 1969 requires 654 fuel. Then, this fuel requires 216 more fuel (654 / 3 - 2). 216 then requires 70 more fuel, which requires 21 fuel, which requires 5 fuel, which requires no further fuel. So, the total fuel required for a module of mass 1969 is 654 + 216 + 70 + 21 + 5 = 966.\n",
    "* The fuel required by a module of mass 100756 and its fuel is: 33583 + 11192 + 3728 + 1240 + 411 + 135 + 43 + 12 + 2 = 50346.\n",
    "\n",
    "What is the sum of the fuel requirements for all of the modules on your spacecraft when also taking into account the mass of the added fuel? (Calculate the fuel requirements for each module separately, then add them all up at the end.)\n"
   ]
  },
  {
   "cell_type": "code",
   "execution_count": 29,
   "metadata": {},
   "outputs": [
    {
     "name": "stdout",
     "output_type": "stream",
     "text": [
      "5178170\n"
     ]
    }
   ],
   "source": [
    "# Parse file\n",
    "open(\"../inputs/dayone.txt\") do file\n",
    "    # Initialise result\n",
    "    result = 0\n",
    "    \n",
    "    # Loop through each line of the file\n",
    "    for line in eachline(file)\n",
    "        \n",
    "        # Preseed lines arithmetic\n",
    "        recursive = floor(parse(Int64, line) / 3)-2\n",
    "        \n",
    "        # Check that the seeded arithmetic is higher than 0 (for fuel) to begin a recursion\n",
    "        while ((floor(recursive / 3)-2) > 0)\n",
    "            # Start Recursion and add to result\n",
    "            recursive = floor(recursive / 3)-2\n",
    "            result += recursive\n",
    "        end\n",
    "        \n",
    "        # Add original arithmetic to result\n",
    "        result += floor(parse(Int64, line) / 3)-2\n",
    "    end\n",
    "    println(format(result))\n",
    "end"
   ]
  },
  {
   "cell_type": "code",
   "execution_count": null,
   "metadata": {},
   "outputs": [],
   "source": []
  }
 ],
 "metadata": {
  "kernelspec": {
   "display_name": "Julia 1.1.1",
   "language": "julia",
   "name": "julia-1.1"
  },
  "language_info": {
   "file_extension": ".jl",
   "mimetype": "application/julia",
   "name": "julia",
   "version": "1.1.1"
  }
 },
 "nbformat": 4,
 "nbformat_minor": 2
}
