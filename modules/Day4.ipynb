{
 "cells": [
  {
   "cell_type": "code",
   "execution_count": null,
   "metadata": {},
   "outputs": [],
   "source": [
    "# Include the usual dependancies\n",
    "using Pkg\n",
    "Pkg.add(\"NBInclude\")\n",
    "using NBInclude\n",
    "@nbinclude(\"Deps.ipynb\")"
   ]
  },
  {
   "cell_type": "markdown",
   "metadata": {},
   "source": [
    "# --- Day 4: Secure Container ---\n",
    "## --- Part One ---"
   ]
  },
  {
   "cell_type": "markdown",
   "metadata": {},
   "source": [
    "You arrive at the Venus fuel depot only to discover it's protected by a password. The Elves had written the password on a sticky note, but someone threw it out.\n",
    "\n",
    "However, they do remember a few key facts about the password:\n",
    "\n",
    "It is a six-digit number.\n",
    "The value is within the range given in your puzzle input.\n",
    "Two adjacent digits are the same (like 22 in 122345).\n",
    "Going from left to right, the digits never decrease; they only ever increase or stay the same (like 111123 or 135679).\n",
    "\n",
    "Other than the range rule, the following are true:\n",
    "\n",
    "111111 meets these criteria (double 11, never decreases).\n",
    "\n",
    "223450 does not meet these criteria (decreasing pair of digits 50).\n",
    "\n",
    "123789 does not meet these criteria (no double).\n",
    "\n",
    "How many different passwords within the range given in your puzzle input meet these criteria?"
   ]
  },
  {
   "cell_type": "code",
   "execution_count": 88,
   "metadata": {},
   "outputs": [
    {
     "name": "stdout",
     "output_type": "stream",
     "text": [
      "1019\n"
     ]
    }
   ],
   "source": [
    "# Range\n",
    "lower = 248345\n",
    "upper = 746315\n",
    "\n",
    "# Initiate amount of passwords\n",
    "count = 0\n",
    "\n",
    "# Loop through the range\n",
    "for i in collect(lower:upper)\n",
    "    \n",
    "    # Initiate previous number and the less than criteria\n",
    "    noless = true\n",
    "    prev = parse(Int64, string(i)[end])\n",
    "    \n",
    "    # Loop through each number in password\n",
    "    for j in collect(1:length(string(i)))\n",
    "        \n",
    "        # From right to left ensure its always decreasing\n",
    "        if parse(Int64, string(i)[7-j]) > prev\n",
    "            noless = false\n",
    "        end\n",
    "        \n",
    "        # Update previous with new number checked\n",
    "        prev = parse(Int64, string(i)[7-j])\n",
    "    end\n",
    "    \n",
    "    # Make sure it passed first criteria\n",
    "    if noless\n",
    "        \n",
    "        # Initiate criteria for double number\n",
    "        adouble = false\n",
    "        \n",
    "        # Loop through each number in password\n",
    "        for k in collect(1:length(string(i))-1)\n",
    "            \n",
    "            # Check for a double\n",
    "            if string(i)[k] == string(i)[k+1]\n",
    "                adouble = true\n",
    "            end\n",
    "        end\n",
    "        \n",
    "        # Make sure it passed second criteria\n",
    "        if adouble \n",
    "            # Increment the counter\n",
    "            count += 1\n",
    "        end\n",
    "    end\n",
    "end\n",
    "\n",
    "# Print result\n",
    "println(count)"
   ]
  },
  {
   "cell_type": "markdown",
   "metadata": {},
   "source": [
    "## --- Part Two ---"
   ]
  },
  {
   "cell_type": "markdown",
   "metadata": {},
   "source": [
    "An Elf just remembered one more important detail: the two adjacent matching digits are not part of a larger group of matching digits.\n",
    "\n",
    "Given this additional criterion, but still ignoring the range rule, the following are now true:\n",
    "\n",
    "112233 meets these criteria because the digits never decrease and all repeated digits are exactly two digits long.\n",
    "\n",
    "123444 no longer meets the criteria (the repeated 44 is part of a larger group of 444).\n",
    "\n",
    "111122 meets the criteria (even though 1 is repeated more than twice, it still contains a double 22).\n",
    "\n",
    "How many different passwords within the range given in your puzzle input meet all of the criteria?"
   ]
  },
  {
   "cell_type": "code",
   "execution_count": 90,
   "metadata": {},
   "outputs": [
    {
     "name": "stdout",
     "output_type": "stream",
     "text": [
      "660\n"
     ]
    }
   ],
   "source": [
    "# Range\n",
    "lower = 248345\n",
    "upper = 746315\n",
    "\n",
    "# Initiate amount of passwords\n",
    "count = 0\n",
    "\n",
    "# Loop through the range\n",
    "for i in collect(lower:upper)\n",
    "    \n",
    "    # Initiate previous number and the less than criteria\n",
    "    noless = true\n",
    "    prev = Inf\n",
    "    \n",
    "    # Loop through each number in password\n",
    "    for j in collect(1:length(string(i)))\n",
    "        \n",
    "        # From right to left ensure its always decreasing\n",
    "        if parse(Int64, string(i)[7-j]) > prev\n",
    "            noless = false\n",
    "        end\n",
    "        \n",
    "        # Update previous with new number checked\n",
    "        prev = parse(Int64, string(i)[7-j])\n",
    "    end\n",
    "    \n",
    "    # Make sure it passed first criteria\n",
    "    if noless\n",
    "        \n",
    "        # Initiate criteria for double number and count the duplicate numbers and initiate previous number\n",
    "        adouble = false\n",
    "        dupecount = 0\n",
    "        prev = string(i)[1]\n",
    "        \n",
    "        # Loop through each number\n",
    "        for k in collect(2:length(string(i)))\n",
    "            \n",
    "            # Check the number is duplicated\n",
    "            if string(i)[k] == prev\n",
    "                \n",
    "                # If no previous duplications make the duplication number 2\n",
    "                if dupecount == 0\n",
    "                    dupecount = 2\n",
    "                    else # If previous duplications increment duplicate number\n",
    "                    dupecount += 1\n",
    "                end\n",
    "            else \n",
    "                # Check if its a double then update success criteria\n",
    "                if dupecount == 2\n",
    "                    adouble = true\n",
    "                end\n",
    "                \n",
    "                # Reset duplicate number counter\n",
    "                dupecount = 0\n",
    "            end\n",
    "            \n",
    "            # Update previous with new number checked\n",
    "            prev = string(i)[k]            \n",
    "        end\n",
    "        \n",
    "        # Check if last two numbers were a duplicate then update success criteria\n",
    "        if dupecount == 2\n",
    "            adouble = true\n",
    "        end\n",
    "        \n",
    "        # If criteria is success then increment counter\n",
    "        if adouble\n",
    "            count += 1\n",
    "        end\n",
    "    end\n",
    "end\n",
    "\n",
    "# Print result\n",
    "println(count)"
   ]
  },
  {
   "cell_type": "code",
   "execution_count": null,
   "metadata": {},
   "outputs": [],
   "source": []
  }
 ],
 "metadata": {
  "kernelspec": {
   "display_name": "Julia 1.1.1",
   "language": "julia",
   "name": "julia-1.1"
  },
  "language_info": {
   "file_extension": ".jl",
   "mimetype": "application/julia",
   "name": "julia",
   "version": "1.1.1"
  }
 },
 "nbformat": 4,
 "nbformat_minor": 2
}
